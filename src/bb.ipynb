{
 "cells": [
  {
   "cell_type": "code",
   "execution_count": 1,
   "metadata": {},
   "outputs": [],
   "source": [
    "import envloader \n",
    "\n",
    "from langchain.document_loaders import PyPDFLoader,PyPDFDirectoryLoader\n",
    "from langchain.document_loaders import WebBaseLoader, TextLoader\n",
    "from langchain.embeddings import GPT4AllEmbeddings\n",
    "\n",
    "\n",
    "\n",
    "import bs4\n",
    "from langchain import hub\n",
    "\n",
    "\n",
    "from langchain.chat_models import ChatOpenAI\n",
    "from langchain.llms.openllm import OpenLLM\n",
    "from langchain.llms.gpt4all import GPT4All\n",
    "\n",
    "\n",
    "from langchain.document_loaders import WebBaseLoader\n",
    "from langchain.embeddings import OpenAIEmbeddings\n",
    "from langchain.schema import StrOutputParser\n",
    "from langchain.schema.runnable import RunnablePassthrough\n",
    "from langchain.text_splitter import RecursiveCharacterTextSplitter\n",
    "from langchain.vectorstores import Chroma"
   ]
  },
  {
   "cell_type": "code",
   "execution_count": 2,
   "metadata": {},
   "outputs": [],
   "source": [
    "text = r\"D:\\P2\\Python\\llm-proj\\random.txt\" \n",
    "link = \"https://en.wikipedia.org/wiki/Breaking_Bad\""
   ]
  },
  {
   "cell_type": "code",
   "execution_count": 3,
   "metadata": {},
   "outputs": [],
   "source": [
    "text_splitter = RecursiveCharacterTextSplitter(\n",
    "    chunk_size = 50,\n",
    "    chunk_overlap  = 20,\n",
    "    length_function = len,\n",
    "    add_start_index = True,\n",
    ")"
   ]
  },
  {
   "cell_type": "code",
   "execution_count": 4,
   "metadata": {},
   "outputs": [],
   "source": [
    "#loader = TextLoader(text)"
   ]
  },
  {
   "cell_type": "code",
   "execution_count": 5,
   "metadata": {},
   "outputs": [],
   "source": [
    "loader = WebBaseLoader(link)"
   ]
  },
  {
   "cell_type": "code",
   "execution_count": 6,
   "metadata": {},
   "outputs": [
    {
     "name": "stdout",
     "output_type": "stream",
     "text": [
      "Help on method load_and_split in module langchain.document_loaders.base:\n",
      "\n",
      "load_and_split(text_splitter: Optional[langchain.text_splitter.TextSplitter] = None) -> List[langchain_core.documents.base.Document] method of langchain.document_loaders.web_base.WebBaseLoader instance\n",
      "    Load Documents and split into chunks. Chunks are returned as Documents.\n",
      "    \n",
      "    Args:\n",
      "        text_splitter: TextSplitter instance to use for splitting documents.\n",
      "          Defaults to RecursiveCharacterTextSplitter.\n",
      "    \n",
      "    Returns:\n",
      "        List of Documents.\n",
      "\n"
     ]
    }
   ],
   "source": [
    "help(loader.load_and_split)"
   ]
  },
  {
   "cell_type": "code",
   "execution_count": 7,
   "metadata": {},
   "outputs": [
    {
     "name": "stdout",
     "output_type": "stream",
     "text": [
      "Split 1:page_content='Breaking Bad - Wikipedia' metadata={'source': 'https://en.wikipedia.org/wiki/Breaking_Bad', 'title': 'Breaking Bad - Wikipedia', 'language': 'en', 'start_index': 4}\n",
      "\n",
      "\n",
      "Split 2:page_content='Jump to content' metadata={'source': 'https://en.wikipedia.org/wiki/Breaking_Bad', 'title': 'Breaking Bad - Wikipedia', 'language': 'en', 'start_index': 65}\n",
      "\n",
      "\n",
      "Split 3:page_content='Jump to content\\n\\n\\n\\n\\n\\n\\n\\nMain menu' metadata={'source': 'https://en.wikipedia.org/wiki/Breaking_Bad', 'title': 'Breaking Bad - Wikipedia', 'language': 'en', 'start_index': -1}\n",
      "\n",
      "\n",
      "Split 4:page_content='Main menu\\n\\n\\n\\n\\n\\nMain menu\\nmove to sidebar\\nhide' metadata={'source': 'https://en.wikipedia.org/wiki/Breaking_Bad', 'title': 'Breaking Bad - Wikipedia', 'language': 'en', 'start_index': 88}\n",
      "\n",
      "\n",
      "Split 5:page_content='Navigation' metadata={'source': 'https://en.wikipedia.org/wiki/Breaking_Bad', 'title': 'Breaking Bad - Wikipedia', 'language': 'en', 'start_index': 139}\n",
      "\n",
      "\n"
     ]
    },
    {
     "data": {
      "text/plain": [
       "4500"
      ]
     },
     "execution_count": 7,
     "metadata": {},
     "output_type": "execute_result"
    }
   ],
   "source": [
    "splits = loader.load_and_split(text_splitter )\n",
    "for index, split in enumerate(splits[:5] , 1 ):\n",
    "    print(f\"Split {index}:{split}\\n\\n\")\n",
    "    \n",
    "len(splits)"
   ]
  },
  {
   "cell_type": "code",
   "execution_count": 9,
   "metadata": {},
   "outputs": [],
   "source": [
    "gpt4all_embd = GPT4AllEmbeddings()"
   ]
  },
  {
   "cell_type": "code",
   "execution_count": 10,
   "metadata": {},
   "outputs": [],
   "source": [
    "vectorstore = Chroma.from_documents(documents=splits, embedding=GPT4AllEmbeddings() , )"
   ]
  },
  {
   "cell_type": "code",
   "execution_count": 11,
   "metadata": {},
   "outputs": [],
   "source": [
    "retriever = vectorstore.as_retriever()\n",
    "\n",
    "prompt = hub.pull(\"rlm/rag-prompt\")\n",
    "llm = GPT4All(model = r\"C:\\Users\\obsidian\\Desktop\\mistral-7b-openorca.Q4_0.gguf\" , )"
   ]
  },
  {
   "cell_type": "code",
   "execution_count": 12,
   "metadata": {},
   "outputs": [],
   "source": [
    "rag_chain = (\n",
    "    {\"context\": retriever , \"question\": RunnablePassthrough()}\n",
    "    | prompt\n",
    "    | llm\n",
    "    | StrOutputParser()\n",
    ")"
   ]
  },
  {
   "cell_type": "code",
   "execution_count": 8,
   "metadata": {},
   "outputs": [
    {
     "data": {
      "text/plain": [
       "0"
      ]
     },
     "execution_count": 8,
     "metadata": {},
     "output_type": "execute_result"
    }
   ],
   "source": [
    "import torch \n",
    "import gc \n",
    "torch.cuda.empty_cache() \n",
    "gc.collect()"
   ]
  },
  {
   "cell_type": "code",
   "execution_count": 13,
   "metadata": {
    "scrolled": true
   },
   "outputs": [
    {
     "name": "stdout",
     "output_type": "stream",
     "text": [
      "Query 1: Who is Walter White?\n",
      "Result:  Walter White is a fictional character from the television series \"Breaking Bad.\" He was portrayed by Bryan Cranston and played a chemistry teacher who turned to a life of crime after being diagnosed with terminal cancer.\n",
      "\n",
      "\n",
      "Query 2: What is capitalism?\n",
      "Result:  I don't know.\n",
      "\n",
      "\n"
     ]
    }
   ],
   "source": [
    "queries = [\n",
    "    #\"Who is Aniruddh?\", #Direct \n",
    "    \"Who is Walter White?\", #Not present \n",
    "    \"What is capitalism?\", #General/Not direct \n",
    "    #\"How is Aniruddh linked with Gary Vee?\", #Indirect context \n",
    "]\n",
    "\n",
    "for index, query in enumerate(queries , 1 ):\n",
    "    print(f\"Query {index}: {query}\")\n",
    "    print(f\"Result: {rag_chain.invoke(query)}\\n\\n\")"
   ]
  },
  {
   "cell_type": "code",
   "execution_count": null,
   "metadata": {},
   "outputs": [],
   "source": []
  }
 ],
 "metadata": {
  "kernelspec": {
   "display_name": "Python 3 (ipykernel)",
   "language": "python",
   "name": "python3"
  },
  "language_info": {
   "codemirror_mode": {
    "name": "ipython",
    "version": 3
   },
   "file_extension": ".py",
   "mimetype": "text/x-python",
   "name": "python",
   "nbconvert_exporter": "python",
   "pygments_lexer": "ipython3",
   "version": "3.10.0"
  }
 },
 "nbformat": 4,
 "nbformat_minor": 4
}
